{
 "cells": [
  {
   "cell_type": "code",
   "execution_count": 1,
   "metadata": {},
   "outputs": [],
   "source": [
    "validation = False\n",
    "reduce_size = False\n",
    "num_first_level_models = 3\n",
    "seed = 0"
   ]
  },
  {
   "cell_type": "code",
   "execution_count": 2,
   "metadata": {},
   "outputs": [],
   "source": [
    "import time\n",
    "start_time = time.time()"
   ]
  },
  {
   "cell_type": "code",
   "execution_count": 3,
   "metadata": {},
   "outputs": [],
   "source": [
    "import pandas as pd\n",
    "import numpy as np\n",
    "import gc\n",
    "from tqdm import tqdm"
   ]
  },
  {
   "cell_type": "code",
   "execution_count": 4,
   "metadata": {},
   "outputs": [],
   "source": [
    "pd.set_option('display.max_rows', 99)\n",
    "pd.set_option('display.max_columns', 50)\n",
    "import warnings\n",
    "warnings.filterwarnings('ignore')"
   ]
  },
  {
   "cell_type": "code",
   "execution_count": 5,
   "metadata": {},
   "outputs": [],
   "source": [
    "import os\n",
    "import subprocess\n",
    "import sys\n",
    "\n",
    "ROOT_DIR = subprocess.check_output(['git', 'rev-parse', '--show-toplevel']).rstrip().decode('utf-8')\n",
    "sys.path.append(os.path.join(ROOT_DIR, 'code'))\n",
    "\n",
    "import config"
   ]
  },
  {
   "cell_type": "code",
   "execution_count": 6,
   "metadata": {},
   "outputs": [],
   "source": [
    "data_path = config.DATA_DIR\n",
    "submission_path = ''"
   ]
  },
  {
   "cell_type": "code",
   "execution_count": 7,
   "metadata": {},
   "outputs": [],
   "source": [
    "def downcast_dtypes(df):\n",
    "    float_cols = [c for c in df if df[c].dtype == 'float64']\n",
    "    int_cols   = [c for c in df if df[c].dtype in ['int64', 'int32']]\n",
    "    \n",
    "    df[float_cols] = df[float_cols].astype(np.float32)\n",
    "    df[int_cols]   = df[int_cols].astype(np.int16)\n",
    "    \n",
    "    return df"
   ]
  },
  {
   "cell_type": "markdown",
   "metadata": {},
   "source": [
    "Load Data"
   ]
  },
  {
   "cell_type": "code",
   "execution_count": 8,
   "metadata": {},
   "outputs": [
    {
     "name": "stdout",
     "output_type": "stream",
     "text": [
      "0.01 min: Start loading data\n",
      "0.04 min: Finish loading data\n"
     ]
    }
   ],
   "source": [
    "print('%0.2f min: Start loading data' % ((time.time() - start_time) / 60))\n",
    "sale_train = pd.read_csv('%s/sales_train.csv.gz' % data_path)\n",
    "test = pd.read_csv('%s/test.csv.gz' % data_path)\n",
    "print('%0.2f min: Finish loading data' % ((time.time() - start_time) / 60))"
   ]
  },
  {
   "cell_type": "code",
   "execution_count": 9,
   "metadata": {},
   "outputs": [],
   "source": [
    "sale_train['date'] = pd.to_datetime(sale_train['date'], format='%d.%m.%Y')"
   ]
  },
  {
   "cell_type": "code",
   "execution_count": 10,
   "metadata": {},
   "outputs": [],
   "source": [
    "# Correct sale_train values"
   ]
  },
  {
   "cell_type": "markdown",
   "metadata": {},
   "source": [
    "Aggregate Data"
   ]
  },
  {
   "cell_type": "code",
   "execution_count": 11,
   "metadata": {},
   "outputs": [],
   "source": [
    "from itertools import product"
   ]
  },
  {
   "cell_type": "code",
   "execution_count": 12,
   "metadata": {},
   "outputs": [],
   "source": [
    "grid = []\n",
    "for block_num in sale_train['date_block_num'].unique():\n",
    "    cur_shops = sale_train[sale_train['date_block_num'] == block_num]['shop_id'].unique()\n",
    "    cur_items = sale_train[sale_train['date_block_num'] == block_num]['item_id'].unique()\n",
    "    grid.append(np.array(list(product(*[cur_shops, cur_items, [block_num]])), dtype='int32'))"
   ]
  },
  {
   "cell_type": "code",
   "execution_count": 13,
   "metadata": {},
   "outputs": [],
   "source": [
    "index_cols = ['shop_id', 'item_id', 'date_block_num']\n",
    "grid = pd.DataFrame(np.vstack(grid), columns=index_cols, dtype=np.int32)"
   ]
  },
  {
   "cell_type": "code",
   "execution_count": 14,
   "metadata": {},
   "outputs": [
    {
     "name": "stdout",
     "output_type": "stream",
     "text": [
      "0.25 min: Finish creating the grid\n"
     ]
    }
   ],
   "source": [
    "print('%0.2f min: Finish creating the grid' % ((time.time() - start_time) / 60))"
   ]
  },
  {
   "cell_type": "code",
   "execution_count": 15,
   "metadata": {},
   "outputs": [],
   "source": [
    "index_cols = ['shop_id', 'item_id', 'date_block_num']\n",
    "sale_train['item_cnt_day'] = sale_train['item_cnt_day'].clip(0, 20)\n",
    "gb_cnt = sale_train.groupby(index_cols)['item_cnt_day'].agg(['sum']).reset_index().rename(columns={'sum': 'item_cnt_month'})\n",
    "gb_cnt['item_cnt_month'] = gb_cnt['item_cnt_month'].clip(0, 20).astype(np.int)"
   ]
  },
  {
   "cell_type": "code",
   "execution_count": 16,
   "metadata": {},
   "outputs": [],
   "source": [
    "train = pd.merge(grid, gb_cnt, how='left', on=index_cols).fillna(0)\n",
    "train['item_cnt_month'] = train['item_cnt_month'].astype(int)\n",
    "train = downcast_dtypes(train)"
   ]
  },
  {
   "cell_type": "code",
   "execution_count": 17,
   "metadata": {},
   "outputs": [
    {
     "name": "stdout",
     "output_type": "stream",
     "text": [
      "0.39 min: Finish joining gb_cnt\n"
     ]
    }
   ],
   "source": [
    "train.sort_values(['date_block_num', 'shop_id', 'item_id'], inplace=True)\n",
    "print('%0.2f min: Finish joining gb_cnt' % ((time.time() - start_time) / 60))"
   ]
  },
  {
   "cell_type": "code",
   "execution_count": 18,
   "metadata": {},
   "outputs": [
    {
     "data": {
      "text/plain": [
       "(3582136.0, 3261311, 3261311)"
      ]
     },
     "execution_count": 18,
     "metadata": {},
     "output_type": "execute_result"
    }
   ],
   "source": [
    "sale_train['item_cnt_day'].sum(), train['item_cnt_month'].sum(), gb_cnt['item_cnt_month'].sum()"
   ]
  },
  {
   "cell_type": "code",
   "execution_count": 20,
   "metadata": {},
   "outputs": [
    {
     "name": "stdout",
     "output_type": "stream",
     "text": [
      "3.95 min: Finish adding item_category_id\n"
     ]
    }
   ],
   "source": [
    "item = pd.read_csv('%s/items.csv' % data_path)\n",
    "train = train.merge(item[['item_id', 'item_category_id']], on=['item_id'], how='left')\n",
    "test  = test.merge(item[['item_id', 'item_category_id']], on=['item_id'], how='left')\n",
    "print('%0.2f min: Finish adding item_category_id' % ((time.time() - start_time) / 60))"
   ]
  },
  {
   "cell_type": "code",
   "execution_count": 22,
   "metadata": {},
   "outputs": [],
   "source": [
    "item_cat = pd.read_csv('%s/item_categories.csv' % data_path)\n",
    "l_cat = list(item_cat.item_category_name)"
   ]
  },
  {
   "cell_type": "code",
   "execution_count": 24,
   "metadata": {},
   "outputs": [],
   "source": [
    "from sklearn import preprocessing\n",
    "lb = preprocessing.LabelEncoder()\n",
    "item_cat['item_cat_id_fix'] = lb.fit_transform(l_cat)"
   ]
  },
  {
   "cell_type": "code",
   "execution_count": 25,
   "metadata": {},
   "outputs": [],
   "source": [
    "train = train.merge(item_cat[['item_cat_id_fix', 'item_category_id']], on=['item_category_id'], how='left')\n",
    "test  =  test.merge(item_cat[['item_cat_id_fix', 'item_category_id']], on=['item_category_id'], how='left')"
   ]
  },
  {
   "cell_type": "code",
   "execution_count": 26,
   "metadata": {},
   "outputs": [
    {
     "name": "stdout",
     "output_type": "stream",
     "text": [
      "48.06 min: Finish adding item_cat_id_fix\n"
     ]
    }
   ],
   "source": [
    "del item, item_cat, grid, gb_cnt\n",
    "gc.collect()\n",
    "print('%0.2f min: Finish adding item_cat_id_fix' % ((time.time() - start_time) / 60))"
   ]
  },
  {
   "cell_type": "markdown",
   "metadata": {},
   "source": [
    "Add item/shop pair mean-encoding"
   ]
  }
 ],
 "metadata": {
  "kernelspec": {
   "display_name": "Python 3",
   "language": "python",
   "name": "python3"
  },
  "language_info": {
   "codemirror_mode": {
    "name": "ipython",
    "version": 3
   },
   "file_extension": ".py",
   "mimetype": "text/x-python",
   "name": "python",
   "nbconvert_exporter": "python",
   "pygments_lexer": "ipython3",
   "version": "3.6.4"
  }
 },
 "nbformat": 4,
 "nbformat_minor": 2
}
